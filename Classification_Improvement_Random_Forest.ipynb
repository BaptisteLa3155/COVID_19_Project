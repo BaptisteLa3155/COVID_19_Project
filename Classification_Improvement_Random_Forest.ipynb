{
 "cells": [
  {
   "cell_type": "code",
   "execution_count": 1,
   "metadata": {},
   "outputs": [],
   "source": [
    "import numpy as np\n",
    "import pandas as pd\n",
    "from sklearn.model_selection import train_test_split\n",
    "from sklearn.ensemble import RandomForestClassifier\n",
    "import matplotlib.pyplot as plt\n",
    "from sklearn import metrics\n",
    "from sklearn.model_selection import KFold\n",
    "from sklearn.model_selection import RandomizedSearchCV\n",
    "from sklearn.model_selection import GridSearchCV\n",
    "from pprint import pprint"
   ]
  },
  {
   "cell_type": "code",
   "execution_count": 2,
   "metadata": {},
   "outputs": [],
   "source": [
    "with open('CSV_Creation/OECD_countries_data.csv') as f:\n",
    "    overall_data_by_country = pd.read_csv(f, error_bad_lines=False)\n",
    "\n",
    "#we want to predict Death_rate by using countries' features \n",
    "features = list(overall_data_by_country.columns)\n",
    "features.remove('Death_rate')\n",
    "features.remove('Country')\n",
    "overall_data_by_country = overall_data_by_country.set_index('Country')\n",
    "\n",
    "#countries are classified according their death rate. Countries with the label 'True' means \n",
    "#that these countries have a high mortality rate compare to other countries\n",
    "\n",
    "def classify_countries(threshold, overall_data_by_country):\n",
    "    death_rate_class = []\n",
    "    for i in range(overall_data_by_country.shape[0]):\n",
    "        if overall_data_by_country.values[i,0] > threshold:\n",
    "            death_rate_class.append(True)\n",
    "        else:\n",
    "            death_rate_class.append(False)\n",
    "    return np.array(death_rate_class)\n",
    "\n",
    "death_rate_class = classify_countries(8, overall_data_by_country) #the label (y)\n",
    "other_data = overall_data_by_country[features].values #features to find the label (X)"
   ]
  },
  {
   "cell_type": "code",
   "execution_count": 3,
   "metadata": {},
   "outputs": [
    {
     "name": "stdout",
     "output_type": "stream",
     "text": [
      "Parameters currently in use:\n",
      "\n",
      "{'bootstrap': True,\n",
      " 'ccp_alpha': 0.0,\n",
      " 'class_weight': None,\n",
      " 'criterion': 'gini',\n",
      " 'max_depth': None,\n",
      " 'max_features': 'auto',\n",
      " 'max_leaf_nodes': None,\n",
      " 'max_samples': None,\n",
      " 'min_impurity_decrease': 0.0,\n",
      " 'min_impurity_split': None,\n",
      " 'min_samples_leaf': 1,\n",
      " 'min_samples_split': 2,\n",
      " 'min_weight_fraction_leaf': 0.0,\n",
      " 'n_estimators': 100,\n",
      " 'n_jobs': None,\n",
      " 'oob_score': False,\n",
      " 'random_state': None,\n",
      " 'verbose': 0,\n",
      " 'warm_start': False}\n"
     ]
    }
   ],
   "source": [
    "cv = KFold(n_splits=5)\n",
    "#Look at the parameter use for a usual random forest\n",
    "Rfc = RandomForestClassifier()\n",
    "print('Parameters currently in use:\\n')\n",
    "pprint(Rfc.get_params())"
   ]
  },
  {
   "cell_type": "code",
   "execution_count": 4,
   "metadata": {},
   "outputs": [
    {
     "name": "stdout",
     "output_type": "stream",
     "text": [
      "{'bootstrap': [True, False],\n",
      " 'max_depth': [10, 20, 30, 40, 50, 60, 70, 80, 90, 100, 110, None],\n",
      " 'max_features': ['auto', 'sqrt'],\n",
      " 'min_samples_leaf': [1, 2, 4],\n",
      " 'min_samples_split': [2, 5, 10],\n",
      " 'n_estimators': [200, 400, 600, 800, 1000, 1200, 1400, 1600, 1800, 2000]}\n"
     ]
    }
   ],
   "source": [
    "# Number of trees in random forest\n",
    "n_estimators = [int(x) for x in np.linspace(start = 200, stop = 2000, num = 10)]\n",
    "# Number of features to consider at every split\n",
    "max_features = ['auto', 'sqrt']\n",
    "# Maximum number of levels in tree\n",
    "max_depth = [int(x) for x in np.linspace(10, 110, num = 11)]\n",
    "max_depth.append(None)\n",
    "# Minimum number of samples required to split a node\n",
    "min_samples_split = [2, 5, 10]\n",
    "# Minimum number of samples required at each leaf node\n",
    "min_samples_leaf = [1, 2, 4]\n",
    "# Method of selecting samples for training each tree\n",
    "bootstrap = [True, False]\n",
    "# Create the random grid\n",
    "random_grid = {'n_estimators': n_estimators,\n",
    "               'max_features': max_features,\n",
    "               'max_depth': max_depth,\n",
    "               'min_samples_split': min_samples_split,\n",
    "               'min_samples_leaf': min_samples_leaf,\n",
    "               'bootstrap': bootstrap}\n",
    "\n",
    "pprint(random_grid)"
   ]
  },
  {
   "cell_type": "code",
   "execution_count": 5,
   "metadata": {},
   "outputs": [
    {
     "name": "stdout",
     "output_type": "stream",
     "text": [
      "Fitting 5 folds for each of 50 candidates, totalling 250 fits\n"
     ]
    },
    {
     "name": "stderr",
     "output_type": "stream",
     "text": [
      "[Parallel(n_jobs=-1)]: Using backend LokyBackend with 8 concurrent workers.\n",
      "[Parallel(n_jobs=-1)]: Done  25 tasks      | elapsed:    6.0s\n",
      "[Parallel(n_jobs=-1)]: Done 146 tasks      | elapsed:   27.1s\n",
      "[Parallel(n_jobs=-1)]: Done 250 out of 250 | elapsed:   44.0s finished\n"
     ]
    },
    {
     "data": {
      "text/plain": [
       "RandomizedSearchCV(cv=5, error_score=nan,\n",
       "                   estimator=RandomForestClassifier(bootstrap=True,\n",
       "                                                    ccp_alpha=0.0,\n",
       "                                                    class_weight=None,\n",
       "                                                    criterion='gini',\n",
       "                                                    max_depth=None,\n",
       "                                                    max_features='auto',\n",
       "                                                    max_leaf_nodes=None,\n",
       "                                                    max_samples=None,\n",
       "                                                    min_impurity_decrease=0.0,\n",
       "                                                    min_impurity_split=None,\n",
       "                                                    min_samples_leaf=1,\n",
       "                                                    min_samples_split=2,\n",
       "                                                    min_weight_fraction_leaf=0.0,\n",
       "                                                    n_estimators=100,\n",
       "                                                    n_jobs...\n",
       "                   param_distributions={'bootstrap': [True, False],\n",
       "                                        'max_depth': [10, 20, 30, 40, 50, 60,\n",
       "                                                      70, 80, 90, 100, 110,\n",
       "                                                      None],\n",
       "                                        'max_features': ['auto', 'sqrt'],\n",
       "                                        'min_samples_leaf': [1, 2, 4],\n",
       "                                        'min_samples_split': [2, 5, 10],\n",
       "                                        'n_estimators': [200, 400, 600, 800,\n",
       "                                                         1000, 1200, 1400, 1600,\n",
       "                                                         1800, 2000]},\n",
       "                   pre_dispatch='2*n_jobs', random_state=42, refit=True,\n",
       "                   return_train_score=False, scoring=None, verbose=2)"
      ]
     },
     "execution_count": 5,
     "metadata": {},
     "output_type": "execute_result"
    }
   ],
   "source": [
    "#Use the random grid to search for best hyperparameters\n",
    "# Random search of parameters, using 5 fold cross validation, \n",
    "# search across 50 different combinations, and use all available cores\n",
    "Rfc_random = RandomizedSearchCV(estimator = Rfc, param_distributions = random_grid, n_iter = 50, cv = 5, verbose=2, random_state=42, n_jobs = -1)\n",
    "# Fit the random search model\n",
    "Rfc_random.fit(other_data, death_rate_class)"
   ]
  },
  {
   "cell_type": "code",
   "execution_count": 6,
   "metadata": {},
   "outputs": [
    {
     "name": "stdout",
     "output_type": "stream",
     "text": [
      "{'bootstrap': True,\n",
      " 'max_depth': 30,\n",
      " 'max_features': 'sqrt',\n",
      " 'min_samples_leaf': 1,\n",
      " 'min_samples_split': 5,\n",
      " 'n_estimators': 400}\n"
     ]
    }
   ],
   "source": [
    "pprint(Rfc_random.best_params_)\n",
    "best_random = Rfc_random.best_estimator_"
   ]
  },
  {
   "cell_type": "code",
   "execution_count": 7,
   "metadata": {},
   "outputs": [],
   "source": [
    "def build_list_scores(Method, X, y):\n",
    "    accuracies = []\n",
    "    recalls = []\n",
    "    precisions = []\n",
    "    for i, (train, test) in enumerate(cv.split(X,y)):\n",
    "        Method.fit(X[train], y[train])\n",
    "        y_pred = Method.predict(X[test])\n",
    "        accuracies.append(metrics.accuracy_score(y[test], y_pred))\n",
    "        if True in y[test]:\n",
    "            recalls.append(metrics.recall_score(y[test], y_pred))\n",
    "        else: \n",
    "            recalls.append(np.nan)\n",
    "        if True in y_pred:\n",
    "            precisions.append(metrics.precision_score(y[test], y_pred))\n",
    "        else:\n",
    "            precisions.append(np.nan)\n",
    "    return (accuracies, recalls, precisions)\n",
    "            \n",
    "(accuracies, recalls, precisions) = build_list_scores(best_random, other_data, death_rate_class)"
   ]
  },
  {
   "cell_type": "code",
   "execution_count": 8,
   "metadata": {},
   "outputs": [
    {
     "name": "stdout",
     "output_type": "stream",
     "text": [
      "Number of predictions whithout positive results: 1\n",
      "The average accuracy is: 0.93 +/- 0.08\n",
      "The average recall is: 0.70 +/- 0.40\n",
      "The average precision is: 1.00 +/- 0.00\n"
     ]
    }
   ],
   "source": [
    "print('Number of predictions whithout positive results:',len([i for i in precisions if i is np.nan]))\n",
    "print('The average accuracy is: %0.2f +/- %0.2f' %(np.nanmean(accuracies), np.nanstd(accuracies)))\n",
    "print('The average recall is: %0.2f +/- %0.2f' %(np.nanmean(recalls), np.nanstd(recalls)))\n",
    "print('The average precision is: %0.2f +/- %0.2f' %(np.nanmean(precisions), np.nanstd(precisions)))"
   ]
  },
  {
   "cell_type": "code",
   "execution_count": 9,
   "metadata": {},
   "outputs": [],
   "source": [
    "# Create the parameter grid based on the results of random search \n",
    "param_grid = {\n",
    "    'bootstrap': [True],\n",
    "    'max_depth': [5, 10, 20, 30, 40, 50],\n",
    "    'max_features': ['sqrt'],\n",
    "    'min_samples_leaf': [1],\n",
    "    'min_samples_split': [1, 3, 5, 7, 9, 11],\n",
    "    'n_estimators': [400]\n",
    "}\n",
    "\n",
    "# Create a based model\n",
    "Rfc = RandomForestClassifier()\n",
    "\n",
    "# Instantiate the grid search model\n",
    "grid_search = GridSearchCV(estimator = Rfc, param_grid = param_grid, \n",
    "                          cv = 5, n_jobs = -1, verbose = 2)"
   ]
  },
  {
   "cell_type": "code",
   "execution_count": 10,
   "metadata": {},
   "outputs": [
    {
     "name": "stdout",
     "output_type": "stream",
     "text": [
      "Fitting 5 folds for each of 36 candidates, totalling 180 fits\n"
     ]
    },
    {
     "name": "stderr",
     "output_type": "stream",
     "text": [
      "[Parallel(n_jobs=-1)]: Using backend LokyBackend with 8 concurrent workers.\n",
      "[Parallel(n_jobs=-1)]: Done  25 tasks      | elapsed:    1.7s\n",
      "[Parallel(n_jobs=-1)]: Done 146 tasks      | elapsed:   10.0s\n",
      "[Parallel(n_jobs=-1)]: Done 180 out of 180 | elapsed:   12.3s finished\n"
     ]
    },
    {
     "data": {
      "text/plain": [
       "{'bootstrap': True,\n",
       " 'max_depth': 5,\n",
       " 'max_features': 'sqrt',\n",
       " 'min_samples_leaf': 1,\n",
       " 'min_samples_split': 3,\n",
       " 'n_estimators': 400}"
      ]
     },
     "execution_count": 10,
     "metadata": {},
     "output_type": "execute_result"
    }
   ],
   "source": [
    "# Fit the grid search to the data\n",
    "grid_search.fit(other_data, death_rate_class)\n",
    "grid_search.best_params_"
   ]
  },
  {
   "cell_type": "code",
   "execution_count": 11,
   "metadata": {},
   "outputs": [
    {
     "name": "stdout",
     "output_type": "stream",
     "text": [
      "Number of predictions whithout positive results: 1\n",
      "The average accuracy is: 0.93 +/- 0.08\n",
      "The average recall is: 0.70 +/- 0.40\n",
      "The average precision is: 1.00 +/- 0.00\n"
     ]
    }
   ],
   "source": [
    "best_grid = grid_search.best_estimator_\n",
    "(accuracies, recalls, precisions) = build_list_scores(best_grid, other_data, death_rate_class)\n",
    "print('Number of predictions whithout positive results:',len([i for i in precisions if i is np.nan]))\n",
    "print('The average accuracy is: %0.2f +/- %0.2f' %(np.nanmean(accuracies), np.nanstd(accuracies)))\n",
    "print('The average recall is: %0.2f +/- %0.2f' %(np.nanmean(recalls), np.nanstd(recalls)))\n",
    "print('The average precision is: %0.2f +/- %0.2f' %(np.nanmean(precisions), np.nanstd(precisions)))"
   ]
  }
 ],
 "metadata": {
  "kernelspec": {
   "display_name": "Python 3",
   "language": "python",
   "name": "python3"
  },
  "language_info": {
   "codemirror_mode": {
    "name": "ipython",
    "version": 3
   },
   "file_extension": ".py",
   "mimetype": "text/x-python",
   "name": "python",
   "nbconvert_exporter": "python",
   "pygments_lexer": "ipython3",
   "version": "3.7.3"
  }
 },
 "nbformat": 4,
 "nbformat_minor": 2
}
