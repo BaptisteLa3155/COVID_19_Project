{
 "cells": [
  {
   "cell_type": "code",
   "execution_count": 1,
   "metadata": {},
   "outputs": [],
   "source": [
    "import csv\n",
    "import pandas as pd\n",
    "import numpy as np"
   ]
  },
  {
   "cell_type": "code",
   "execution_count": 2,
   "metadata": {},
   "outputs": [],
   "source": [
    "#the aim of this programm is to build a CSV file with all measures of the pandemic for countries\n",
    "with open(\"Sources/COVID-19-master/time_series_covid19_confirmed_global.csv\") as f:\n",
    "    confirmed_data = pd.read_csv(f,  error_bad_lines=False)\n",
    "\n",
    "with open(\"Sources/COVID-19-master/time_series_covid19_deaths_global.csv\") as f:\n",
    "    deaths_data = pd.read_csv(f,  error_bad_lines=False)\n",
    "\n",
    "with open(\"Sources/COVID-19-master/time_series_covid19_recovered_global.csv\") as f:\n",
    "    recovered_data = pd.read_csv(f,  error_bad_lines=False)"
   ]
  },
  {
   "cell_type": "code",
   "execution_count": 3,
   "metadata": {},
   "outputs": [],
   "source": [
    "#the data is grouped by country instead of region\n",
    "columns = [\"Country/Region\"] + list(confirmed_data.columns[4:])\n",
    "confirmed_data= confirmed_data[columns].groupby('Country/Region').sum()\n",
    "deaths_data = deaths_data[columns].groupby('Country/Region').sum()\n",
    "recovered_data = recovered_data[columns].groupby('Country/Region').sum()"
   ]
  },
  {
   "cell_type": "code",
   "execution_count": 4,
   "metadata": {},
   "outputs": [],
   "source": [
    "#this function returns the death rate\n",
    "def rate_country_by_day(confirmed, deaths):\n",
    "    if confirmed == 0:\n",
    "        return np.nan\n",
    "    else:\n",
    "        return (deaths/confirmed)\n",
    "\n",
    "#this function builds the dataframe which contains all measures \n",
    "def construction_daily_data_by_country(confirmed_data, deaths_data, recovered_data):\n",
    "    measures_list = []\n",
    "    days_nb = confirmed_data.values.shape[1]\n",
    "    columns = ['Day_number', 'Country', 'Confirmed', 'Deaths', 'Recovered', 'Death_rate', 'Recovery_rate']\n",
    "    for day in range(days_nb):\n",
    "        for country in confirmed_data.T.columns:\n",
    "            confirmed = confirmed_data.T[country][day]\n",
    "            deaths = deaths_data.T[country][day]\n",
    "            recovered = recovered_data.T[country][day]\n",
    "            death_rate = rate_country_by_day(confirmed, deaths)\n",
    "            recovery_rate = rate_country_by_day(confirmed, recovered)\n",
    "            list_of_day_by_country = [day, country, confirmed, deaths, recovered, death_rate, recovery_rate]\n",
    "            measures_list.append(list_of_day_by_country)\n",
    "    return pd.DataFrame(np.array(measures_list), columns = columns) \n",
    "\n",
    "daily_data_by_country = construction_daily_data_by_country(confirmed_data, deaths_data, recovered_data)"
   ]
  },
  {
   "cell_type": "code",
   "execution_count": 5,
   "metadata": {},
   "outputs": [],
   "source": [
    "#the Dataframe is written inside a CSV file in order to be better available for other python files \n",
    "with open(\"CSV_Creation/daily_data_by_country.csv\", 'w', newline='') as f:\n",
    "    spamwriter = csv.writer(f, delimiter=',', quotechar='|', quoting=csv.QUOTE_MINIMAL)\n",
    "    spamwriter.writerow([i for i in daily_data_by_country])\n",
    "    for i in range(daily_data_by_country.shape[0]):\n",
    "        spamwriter.writerow(daily_data_by_country.values[i])"
   ]
  }
 ],
 "metadata": {
  "kernelspec": {
   "display_name": "Python 3",
   "language": "python",
   "name": "python3"
  },
  "language_info": {
   "codemirror_mode": {
    "name": "ipython",
    "version": 3
   },
   "file_extension": ".py",
   "mimetype": "text/x-python",
   "name": "python",
   "nbconvert_exporter": "python",
   "pygments_lexer": "ipython3",
   "version": "3.7.3"
  }
 },
 "nbformat": 4,
 "nbformat_minor": 2
}
