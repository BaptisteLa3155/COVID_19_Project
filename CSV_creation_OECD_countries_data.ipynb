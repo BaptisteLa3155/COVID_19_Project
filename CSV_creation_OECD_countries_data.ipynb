{
 "cells": [
  {
   "cell_type": "code",
   "execution_count": 1,
   "metadata": {},
   "outputs": [],
   "source": [
    "import pandas as pd\n",
    "import numpy as np\n",
    "import csv\n",
    "import matplotlib.pyplot as plt"
   ]
  },
  {
   "cell_type": "code",
   "execution_count": 2,
   "metadata": {},
   "outputs": [],
   "source": [
    "#all needed data for doing the classification, sources in the README.txt file\n",
    "with open(\"CSV_Creation/daily_data_by_country.csv\") as f:\n",
    "    daily_data = pd.read_csv(f,  error_bad_lines=False)\n",
    "\n",
    "with open('Sources/data_by_country/HEALTH_LVNG_26042020095720197.csv') as f:\n",
    "    overweight_data = pd.read_csv(f, error_bad_lines=False)\n",
    "\n",
    "with open('Sources/data_by_country/HEALTH_REAC_26042020094617550.csv') as f:\n",
    "    hospital_beds_data = pd.read_csv(f, error_bad_lines=False)\n",
    "\n",
    "with open('Sources/data_by_country/HEALTH_DEMR_26042020093618793.csv') as f:\n",
    "    elder_people_data = pd.read_csv(f, error_bad_lines=False)\n",
    "\n",
    "with open('Sources/data_by_country/HEALTH_REAC_26042020101616131.csv') as f:\n",
    "    health_employment_data = pd.read_csv(f, error_bad_lines=False)\n",
    "\n",
    "with open('Sources/data_by_country/number-of-covid-19-tests-per-confirmed-case.csv') as f:\n",
    "    nb_tests_per_confirmed_cases_data = pd.read_csv(f, error_bad_lines=False)"
   ]
  },
  {
   "cell_type": "code",
   "execution_count": 3,
   "metadata": {},
   "outputs": [],
   "source": [
    "#selection of 'Country' and the value of the features \n",
    "overweight_data = overweight_data[['Country', 'Value']]\n",
    "hospital_beds_data = hospital_beds_data[['Country', 'Value']]\n",
    "elder_people_data = elder_people_data[['Country', 'Value']]\n",
    "health_employment_data = health_employment_data[['Country', 'Value']]\n",
    "nb_tests_per_confirmed_cases_data = nb_tests_per_confirmed_cases_data[['Country', 'Number of tests per confirmed case']]\n",
    "\n",
    "#some countries are not represented in all datasets. These countries are removed from the classification to avoid missing values\n",
    "#nb_tests_per_confirmed_cases contain data for all OECD countries \n",
    "\n",
    "elder_people_countries_set = set(elder_people_data['Country'])\n",
    "hospital_beds_countries_set = set(hospital_beds_data['Country'])\n",
    "overweight_countries_set = set(overweight_data['Country'])\n",
    "health_employment_countries = set(health_employment_data['Country'])\n",
    "\n",
    "#thus, the tested countries is given by the intersection of the countries represented in the datasets\n",
    "tested_countries = hospital_beds_countries_set & elder_people_countries_set & overweight_countries_set & health_employment_countries\n",
    "tested_countries = list(set(tested_countries))\n",
    "tested_countries.sort()\n"
   ]
  },
  {
   "cell_type": "code",
   "execution_count": 4,
   "metadata": {},
   "outputs": [],
   "source": [
    "#some countries did not have the same writing in all sets \n",
    "writing_countries_pb = list(set(tested_countries) - (set(daily_data['Country']) & set(tested_countries)))\n",
    "writing_countries_pb.sort()\n",
    "writing_daily_data_pb = ['Czechia', 'Slovakia', 'South Korea', 'US']\n",
    "\n",
    "for i in range(len(writing_daily_data_pb)):\n",
    "    daily_data = daily_data.replace(writing_daily_data_pb[i], writing_countries_pb[i])\n",
    "    nb_tests_per_confirmed_cases_data = nb_tests_per_confirmed_cases_data.replace(writing_daily_data_pb[i], writing_countries_pb[i])\n"
   ]
  },
  {
   "cell_type": "code",
   "execution_count": 5,
   "metadata": {},
   "outputs": [],
   "source": [
    "#now, all countries have the same writing, we can select the death rate for each country\n",
    "last_day_nb = daily_data.values[-1, 0]\n",
    "death_rate_data = daily_data.loc[(daily_data['Day_number'] == last_day_nb), ['Country','Death_rate']]"
   ]
  },
  {
   "cell_type": "code",
   "execution_count": 6,
   "metadata": {},
   "outputs": [],
   "source": [
    "#this function creates a list with the last reported feature for each tested country\n",
    "def creation_list(data, tested_countries):\n",
    "    l = []\n",
    "    for country in tested_countries:\n",
    "        values = data.loc[data['Country'] == country, :].values[:,1]\n",
    "        l.append(values[-1])\n",
    "    return l"
   ]
  },
  {
   "cell_type": "code",
   "execution_count": 7,
   "metadata": {},
   "outputs": [],
   "source": [
    "#getting all lists containing the last reported feature for each tested country\n",
    "overweight_list = creation_list(overweight_data, tested_countries)\n",
    "elder_people_list = creation_list(elder_people_data, tested_countries)\n",
    "health_employment_list = creation_list(health_employment_data, tested_countries)\n",
    "hospital_beds_list = creation_list(hospital_beds_data, tested_countries)\n",
    "\n",
    "#all measures are normalized with two digits \n",
    "nb_tests_per_confirmed_cases_list = creation_list(nb_tests_per_confirmed_cases_data, tested_countries)\n",
    "nb_tests_per_confirmed_cases_list = [round(nb_tests, 1) for nb_tests in nb_tests_per_confirmed_cases_list]\n",
    "death_rate_list = creation_list(death_rate_data, tested_countries)\n",
    "death_rate_list = [round(rate*100, 1) for rate in death_rate_list]"
   ]
  },
  {
   "cell_type": "code",
   "execution_count": 8,
   "metadata": {},
   "outputs": [],
   "source": [
    "#creation of the Dataframe\n",
    "OECD_countries_data_array = np.array([tested_countries, death_rate_list, overweight_list, health_employment_list, hospital_beds_list, elder_people_list, nb_tests_per_confirmed_cases_list]).T\n",
    "OECD_countries_data = pd.DataFrame(data=OECD_countries_data_array, columns = ['Country','Death_rate', 'Proportion of overweight people', 'Health employment per 1000 hab', 'Hospital beds per 1000 hab', 'Proportion of edler people', 'Number of tests per confirmed cases'])"
   ]
  },
  {
   "cell_type": "code",
   "execution_count": 9,
   "metadata": {},
   "outputs": [],
   "source": [
    "#writing in a CSV file\n",
    "with open(\"CSV_Creation/OECD_countries_data.csv\", 'w', newline='') as f:\n",
    "    spamwriter = csv.writer(f, delimiter=',', quotechar='|', quoting=csv.QUOTE_MINIMAL)\n",
    "    spamwriter.writerow([i for i in OECD_countries_data])\n",
    "    for i in range(OECD_countries_data.shape[0]):\n",
    "        spamwriter.writerow(OECD_countries_data.values[i])"
   ]
  },
  {
   "cell_type": "code",
   "execution_count": null,
   "metadata": {},
   "outputs": [],
   "source": []
  }
 ],
 "metadata": {
  "kernelspec": {
   "display_name": "Python 3",
   "language": "python",
   "name": "python3"
  },
  "language_info": {
   "codemirror_mode": {
    "name": "ipython",
    "version": 3
   },
   "file_extension": ".py",
   "mimetype": "text/x-python",
   "name": "python",
   "nbconvert_exporter": "python",
   "pygments_lexer": "ipython3",
   "version": "3.7.3"
  }
 },
 "nbformat": 4,
 "nbformat_minor": 2
}
